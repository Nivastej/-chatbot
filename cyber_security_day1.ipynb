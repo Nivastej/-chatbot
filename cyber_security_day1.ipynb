{
  "nbformat": 4,
  "nbformat_minor": 0,
  "metadata": {
    "colab": {
      "name": "cyber security day1",
      "provenance": [],
      "collapsed_sections": [],
      "authorship_tag": "ABX9TyNY7HHwAt/dDkRsNisxUkVL",
      "include_colab_link": true
    },
    "kernelspec": {
      "name": "python3",
      "display_name": "Python 3"
    },
    "language_info": {
      "name": "python"
    }
  },
  "cells": [
    {
      "cell_type": "markdown",
      "metadata": {
        "id": "view-in-github",
        "colab_type": "text"
      },
      "source": [
        "<a href=\"https://colab.research.google.com/github/Nivastej/-chatbot/blob/main/cyber_security_day1.ipynb\" target=\"_parent\"><img src=\"https://colab.research.google.com/assets/colab-badge.svg\" alt=\"Open In Colab\"/></a>"
      ]
    },
    {
      "cell_type": "markdown",
      "metadata": {
        "id": "yiZiRkGfP5la"
      },
      "source": [
        "# **Data Types and Operators**\n",
        "\n",
        "Welcome to this lesson on Data Types and Operators! You'll learn about:\n",
        "\n",
        "# Data Types:\n",
        "Strings, Integers, Floats, Booleans, Lists, Tuples, Sets, Dictionaries\n",
        "\n",
        "# Operators:\n",
        "Arithmetic, Assignment, Comparison, Logical, Membership, Identity\n",
        "Built-In Functions, Compound Data Structures, Type Conversion"
      ]
    },
    {
      "cell_type": "code",
      "metadata": {
        "id": "MidZpenFRuYU"
      },
      "source": [
        "#String: Enclosed textual data within quotes\n",
        "var_1 = 'Hello World!'\n",
        "var_2 = \"I love gaming\""
      ],
      "execution_count": null,
      "outputs": []
    },
    {
      "cell_type": "code",
      "metadata": {
        "id": "LK-MUIxHVuh3"
      },
      "source": [
        ""
      ],
      "execution_count": null,
      "outputs": []
    },
    {
      "cell_type": "code",
      "metadata": {
        "colab": {
          "base_uri": "https://localhost:8080/"
        },
        "id": "qmqkdXWDS3Ic",
        "outputId": "e025f141-eab3-4203-df2b-6223f1500aac"
      },
      "source": [
        "print(var_1)\n",
        "#Prints the value of variable"
      ],
      "execution_count": null,
      "outputs": [
        {
          "output_type": "stream",
          "text": [
            "Hello World!\n"
          ],
          "name": "stdout"
        }
      ]
    },
    {
      "cell_type": "markdown",
      "metadata": {
        "id": "JNJ0cjaVTnJJ"
      },
      "source": [
        ""
      ]
    },
    {
      "cell_type": "code",
      "metadata": {
        "id": "iYDpn2eBS5VZ"
      },
      "source": [
        "print(len(var_1))\n",
        "#Prints the length of variable"
      ],
      "execution_count": null,
      "outputs": []
    },
    {
      "cell_type": "code",
      "metadata": {
        "id": "sdWNafVgS9Wc"
      },
      "source": [
        "#In python, Indexing starts from 0,1,2,3\n",
        "print(var_1[10])\n",
        "#prints character at index 10"
      ],
      "execution_count": null,
      "outputs": []
    },
    {
      "cell_type": "code",
      "metadata": {
        "id": "Mtiyp5L0S_ru"
      },
      "source": [
        "print(var_1[0:5])\n",
        "#prints character index 0-4 but 5 isn't included"
      ],
      "execution_count": null,
      "outputs": []
    },
    {
      "cell_type": "code",
      "metadata": {
        "id": "IM68zMumTDvy"
      },
      "source": [
        "print(var_1[6:])\n",
        "#prints character index 6-last index "
      ],
      "execution_count": null,
      "outputs": []
    },
    {
      "cell_type": "markdown",
      "metadata": {
        "id": "a727llxtTK47"
      },
      "source": [
        "# The above operations using square [ ] brackets is called slicing\n"
      ]
    },
    {
      "cell_type": "code",
      "metadata": {
        "id": "ZS9iwniyTVIu"
      },
      "source": [
        "print(var_1.lower()) #Prints strings in lower case"
      ],
      "execution_count": null,
      "outputs": []
    },
    {
      "cell_type": "code",
      "metadata": {
        "id": "nvGr4G7pTZZt"
      },
      "source": [
        "print(var_1.upper()) #Prints strings in upper case"
      ],
      "execution_count": null,
      "outputs": []
    },
    {
      "cell_type": "code",
      "metadata": {
        "id": "Dc30MmeBTYvM"
      },
      "source": [
        "greeting = 'hello'\n",
        "name = 'Nivas tej'\n",
        "\n",
        "message_1 = greeting+', '+name+'. Welcome!' #String concatenation\n",
        "message_2 = '{}, {}. Welcome!'.format(greeting,name)\n",
        "\n",
        "print(message_1)\n",
        "print(message_2)"
      ],
      "execution_count": null,
      "outputs": []
    },
    {
      "cell_type": "markdown",
      "metadata": {
        "id": "oBzm-PWJTnRT"
      },
      "source": [
        "# Variable Naming Conventions:\n",
        "There are some rules we need to follow while giving a name for a Python variable.\n",
        "\n",
        "  *  Rule-1: You should start variable name with an alphabet or underscore(_) character.\n",
        "\n",
        "  *  Rule-2: A variable name can only contain A-Z,a-z,0-9 and underscore(_).\n",
        "\n",
        "  *  Rule-3: You cannot start the variable name with a number.\n",
        "\n",
        "  *  Rule-4: You cannot use special characters with the variable name such as such as $,%,#,&,@.-,^ etc.\n",
        "\n",
        "  *  Rule-5: Variable names are case sensitive. For example str and Str are two different variables.\n",
        "\n",
        "  *  Rule-6: Do not use reserve keyword as a variable name for example keywords like class, for, def, del, is, else, try, from, etc. more examples are given below and as we go through the course we will come across many more. Creating names that are descriptive of the values often will help you avoid using any of these words."
      ]
    },
    {
      "cell_type": "code",
      "metadata": {
        "id": "mjpCvjgWTYk0"
      },
      "source": [
        "#Variable name not Allowed\n",
        "\n",
        "7mypython=\"PythonGuides\"\n",
        "-mypython=\"PythonGuides\"\n",
        "myPy@thon=\"PythonGuides\"\n",
        "my Python=\"PythonGuides\"\n",
        "for=\"PythonGuides\"\n",
        "\n",
        "#It shows invalid syntax. \n",
        "#It will execute one by one and will show the error."
      ],
      "execution_count": null,
      "outputs": []
    },
    {
      "cell_type": "code",
      "metadata": {
        "id": "PTzQEMHGUkx1"
      },
      "source": [
        "#Allowed variable names\n",
        "\n",
        "x=2\n",
        "y=\"Hello\"\n",
        "mypython=\"PythonGuides\"\n",
        "my_python=\"PythonGuides\"\n",
        "_my_python=\"PythonGuides\"\n",
        "_mypython=\"PythonGuides\"\n",
        "MYPYTHON=\"PythonGuides\"\n",
        "myPython=\"PythonGuides\"\n",
        "myPython7=\"PythonGuides\""
      ],
      "execution_count": null,
      "outputs": []
    },
    {
      "cell_type": "markdown",
      "metadata": {
        "id": "8bfVZSgNUsSm"
      },
      "source": [
        "# Integers and Floats:\n",
        "Working with numeric data"
      ]
    },
    {
      "cell_type": "markdown",
      "metadata": {
        "id": "tBwuwOuIUwSV"
      },
      "source": [
        "### Arithmetic Operators:\n",
        "Addition: 7+5\n",
        "\n",
        "Subtraction: 7-5\n",
        "\n",
        "Multiplication: 7*5\n",
        "\n",
        "Division: 7/5\n",
        "\n",
        "Floor Division: 7//5 -> Drops decimal value\n",
        "\n",
        "Exponent: 7**5\n",
        "\n",
        "Modulus: 7%5"
      ]
    },
    {
      "cell_type": "code",
      "metadata": {
        "id": "ZMS1wQXnTYZE"
      },
      "source": [
        "abs(-11) #Returns absolute value of integer data"
      ],
      "execution_count": null,
      "outputs": []
    },
    {
      "cell_type": "code",
      "metadata": {
        "id": "BS_0_Ct9TYJ6"
      },
      "source": [
        "num = 1\n",
        "num = num+1\n",
        "num += 1\n",
        "print(num)"
      ],
      "execution_count": null,
      "outputs": []
    },
    {
      "cell_type": "code",
      "metadata": {
        "id": "Cpqmhpe_VMzF"
      },
      "source": [
        "round(8.63) # round to nearest integer"
      ],
      "execution_count": null,
      "outputs": []
    },
    {
      "cell_type": "code",
      "metadata": {
        "id": "VWFKYxcTVMtZ"
      },
      "source": [
        "round(8.63,1) #rounds till first decimal point"
      ],
      "execution_count": null,
      "outputs": []
    },
    {
      "cell_type": "markdown",
      "metadata": {
        "id": "RZkd9LqNVT1W"
      },
      "source": [
        "# Comparison Operators:\n",
        "Equal: 7==5\n",
        "\n",
        "Not Equal: 7!=5\n",
        "\n",
        "Greater than: 7>5\n",
        "\n",
        "Less than: 7<5\n",
        "\n",
        "Greater or Equal: 7>=5\n",
        "\n",
        "Less or Equal: 7<=5\n"
      ]
    },
    {
      "cell_type": "code",
      "metadata": {
        "id": "j3I7wNYpVMnv"
      },
      "source": [
        "num_1 = 7\n",
        "num_2 = 5\n",
        "print(num_1 == num_2)"
      ],
      "execution_count": null,
      "outputs": []
    },
    {
      "cell_type": "code",
      "metadata": {
        "id": "-SPI59iUVMh8"
      },
      "source": [
        ""
      ],
      "execution_count": null,
      "outputs": []
    }
  ]
}